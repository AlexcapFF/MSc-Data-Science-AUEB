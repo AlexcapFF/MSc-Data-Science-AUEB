{
 "cells": [
  {
   "cell_type": "markdown",
   "metadata": {
    "toc": true
   },
   "source": [
    "<h1>Table of Contents<span class=\"tocSkip\"></span></h1>\n",
    "<div class=\"toc\"><ul class=\"toc-item\"><li><span><a href=\"#Text-Analytics:-Homework-4\" data-toc-modified-id=\"Text-Analytics:-Homework-4-1\">Text Analytics: Homework 4</a></span></li><li><span><a href=\"#Sentiment-Analysis-using-RNN\" data-toc-modified-id=\"Sentiment-Analysis-using-RNN-2\">Sentiment Analysis using RNN</a></span></li><li><span><a href=\"#Data-ingestion\" data-toc-modified-id=\"Data-ingestion-3\">Data ingestion</a></span></li><li><span><a href=\"#Sampling\" data-toc-modified-id=\"Sampling-4\">Sampling</a></span></li><li><span><a href=\"#Preprocessing\" data-toc-modified-id=\"Preprocessing-5\">Preprocessing</a></span></li><li><span><a href=\"#Keep-only-relevant-data\" data-toc-modified-id=\"Keep-only-relevant-data-6\">Keep only relevant data</a></span></li><li><span><a href=\"#Train-/-Heldout-/-Dev-sets\" data-toc-modified-id=\"Train-/-Heldout-/-Dev-sets-7\">Train / Heldout / Dev sets</a></span></li><li><span><a href=\"#Creating-word-embeddings\" data-toc-modified-id=\"Creating-word-embeddings-8\">Creating word embeddings</a></span><ul class=\"toc-item\"><li><span><a href=\"#TF/IDF-vectorizer\" data-toc-modified-id=\"TF/IDF-vectorizer-8.1\">TF/IDF vectorizer</a></span></li><li><span><a href=\"#Plots\" data-toc-modified-id=\"Plots-8.2\">Plots</a></span></li><li><span><a href=\"#Statistics-and-Plots\" data-toc-modified-id=\"Statistics-and-Plots-8.3\">Statistics and Plots</a></span></li></ul></li><li><span><a href=\"#Models\" data-toc-modified-id=\"Models-9\">Models</a></span><ul class=\"toc-item\"><li><span><a href=\"#Manual-Aproach\" data-toc-modified-id=\"Manual-Aproach-9.1\">Manual Aproach</a></span></li><li><span><a href=\"#Moving-to-models-with-more-hidden-layers\" data-toc-modified-id=\"Moving-to-models-with-more-hidden-layers-9.2\">Moving to models with more hidden layers</a></span></li><li><span><a href=\"#Automated-Approach\" data-toc-modified-id=\"Automated-Approach-9.3\">Automated Approach</a></span></li></ul></li><li><span><a href=\"#Assuming-that-this-is-our-best-working-model-parameters\" data-toc-modified-id=\"Assuming-that-this-is-our-best-working-model-parameters-10\">Assuming that this is our best working model parameters</a></span><ul class=\"toc-item\"><li><ul class=\"toc-item\"><li><span><a href=\"#Visualization-of-the-MLP-architecture\" data-toc-modified-id=\"Visualization-of-the-MLP-architecture-10.0.1\">Visualization of the MLP architecture</a></span></li></ul></li></ul></li></ul></div>"
   ]
  },
  {
   "cell_type": "markdown",
   "metadata": {},
   "source": [
    "# AUEB M.S.c in Data Science (part-time)\n",
    "## Text Analytics: Homework 4\n",
    "\n",
    "## Sentiment Analysis using RNN\n",
    "using Twitter Dataset of a large number of tweets\n",
    "\n",
    "Team members: \n",
    "\n",
    "- Kaplanis Alexandros (P3351802)\n",
    "- Politis Spiros (P3351814)\n",
    "- Proimakis Manos (P3351815)"
   ]
  },
  {
   "cell_type": "markdown",
   "metadata": {},
   "source": [
    "## Data ingestion"
   ]
  },
  {
   "cell_type": "code",
   "execution_count": 1,
   "metadata": {},
   "outputs": [],
   "source": [
    "import pandas as pd\n",
    "\n",
    "pd.set_option('display.width', None)\n",
    "pd.set_option('display.max_colwidth', -1)\n",
    "\n",
    "'''\n",
    "    Ingests a dataset.\n",
    "    \n",
    "    :param file_path: Path from which to load a dataset.\n",
    "    :param num_lines: Maximum number of lines to ingest.\n",
    "    \n",
    "    :returns: Pandas dataframe.\n",
    "'''\n",
    "def create_dataset(file_path:str, num_lines:int):\n",
    "    df = pd.read_csv(\n",
    "        file_path, \\\n",
    "        engine='python', \\\n",
    "        names=[\n",
    "            'polarity',\n",
    "            'id',\n",
    "            'date',\n",
    "            'query',\n",
    "            'user',\n",
    "            'text'\n",
    "        ],\n",
    "        index_col='id',\n",
    "        sep=',', \n",
    "        header=None,\n",
    "        nrows=num_lines,\n",
    "        encoding = 'latin_1'\n",
    "    )\n",
    "    return df"
   ]
  },
  {
   "cell_type": "code",
   "execution_count": 2,
   "metadata": {},
   "outputs": [],
   "source": [
    "import sys\n",
    "original_training_df = create_dataset(\n",
    "    'data/training.1600000.processed.noemoticon.csv', \n",
    "    sys.maxsize\n",
    ")\n",
    "\n",
    "original_test_df = create_dataset(\n",
    "    'data/testdata.manual.2009.06.14.csv', \n",
    "    sys.maxsize\n",
    ")"
   ]
  },
  {
   "cell_type": "markdown",
   "metadata": {},
   "source": [
    "an example of data structure we have on our training set"
   ]
  },
  {
   "cell_type": "code",
   "execution_count": 3,
   "metadata": {},
   "outputs": [
    {
     "data": {
      "text/html": [
       "<div>\n",
       "<style scoped>\n",
       "    .dataframe tbody tr th:only-of-type {\n",
       "        vertical-align: middle;\n",
       "    }\n",
       "\n",
       "    .dataframe tbody tr th {\n",
       "        vertical-align: top;\n",
       "    }\n",
       "\n",
       "    .dataframe thead th {\n",
       "        text-align: right;\n",
       "    }\n",
       "</style>\n",
       "<table border=\"1\" class=\"dataframe\">\n",
       "  <thead>\n",
       "    <tr style=\"text-align: right;\">\n",
       "      <th></th>\n",
       "      <th>polarity</th>\n",
       "      <th>date</th>\n",
       "      <th>query</th>\n",
       "      <th>user</th>\n",
       "      <th>text</th>\n",
       "    </tr>\n",
       "    <tr>\n",
       "      <th>id</th>\n",
       "      <th></th>\n",
       "      <th></th>\n",
       "      <th></th>\n",
       "      <th></th>\n",
       "      <th></th>\n",
       "    </tr>\n",
       "  </thead>\n",
       "  <tbody>\n",
       "    <tr>\n",
       "      <th>1467810369</th>\n",
       "      <td>0</td>\n",
       "      <td>Mon Apr 06 22:19:45 PDT 2009</td>\n",
       "      <td>NO_QUERY</td>\n",
       "      <td>_TheSpecialOne_</td>\n",
       "      <td>@switchfoot http://twitpic.com/2y1zl - Awww, that's a bummer.  You shoulda got David Carr of Third Day to do it. ;D</td>\n",
       "    </tr>\n",
       "    <tr>\n",
       "      <th>1467810672</th>\n",
       "      <td>0</td>\n",
       "      <td>Mon Apr 06 22:19:49 PDT 2009</td>\n",
       "      <td>NO_QUERY</td>\n",
       "      <td>scotthamilton</td>\n",
       "      <td>is upset that he can't update his Facebook by texting it... and might cry as a result  School today also. Blah!</td>\n",
       "    </tr>\n",
       "    <tr>\n",
       "      <th>1467810917</th>\n",
       "      <td>0</td>\n",
       "      <td>Mon Apr 06 22:19:53 PDT 2009</td>\n",
       "      <td>NO_QUERY</td>\n",
       "      <td>mattycus</td>\n",
       "      <td>@Kenichan I dived many times for the ball. Managed to save 50%  The rest go out of bounds</td>\n",
       "    </tr>\n",
       "    <tr>\n",
       "      <th>1467811184</th>\n",
       "      <td>0</td>\n",
       "      <td>Mon Apr 06 22:19:57 PDT 2009</td>\n",
       "      <td>NO_QUERY</td>\n",
       "      <td>ElleCTF</td>\n",
       "      <td>my whole body feels itchy and like its on fire</td>\n",
       "    </tr>\n",
       "    <tr>\n",
       "      <th>1467811193</th>\n",
       "      <td>0</td>\n",
       "      <td>Mon Apr 06 22:19:57 PDT 2009</td>\n",
       "      <td>NO_QUERY</td>\n",
       "      <td>Karoli</td>\n",
       "      <td>@nationwideclass no, it's not behaving at all. i'm mad. why am i here? because I can't see you all over there.</td>\n",
       "    </tr>\n",
       "    <tr>\n",
       "      <th>1467811372</th>\n",
       "      <td>0</td>\n",
       "      <td>Mon Apr 06 22:20:00 PDT 2009</td>\n",
       "      <td>NO_QUERY</td>\n",
       "      <td>joy_wolf</td>\n",
       "      <td>@Kwesidei not the whole crew</td>\n",
       "    </tr>\n",
       "    <tr>\n",
       "      <th>1467811592</th>\n",
       "      <td>0</td>\n",
       "      <td>Mon Apr 06 22:20:03 PDT 2009</td>\n",
       "      <td>NO_QUERY</td>\n",
       "      <td>mybirch</td>\n",
       "      <td>Need a hug</td>\n",
       "    </tr>\n",
       "    <tr>\n",
       "      <th>1467811594</th>\n",
       "      <td>0</td>\n",
       "      <td>Mon Apr 06 22:20:03 PDT 2009</td>\n",
       "      <td>NO_QUERY</td>\n",
       "      <td>coZZ</td>\n",
       "      <td>@LOLTrish hey  long time no see! Yes.. Rains a bit ,only a bit  LOL , I'm fine thanks , how's you ?</td>\n",
       "    </tr>\n",
       "    <tr>\n",
       "      <th>1467811795</th>\n",
       "      <td>0</td>\n",
       "      <td>Mon Apr 06 22:20:05 PDT 2009</td>\n",
       "      <td>NO_QUERY</td>\n",
       "      <td>2Hood4Hollywood</td>\n",
       "      <td>@Tatiana_K nope they didn't have it</td>\n",
       "    </tr>\n",
       "    <tr>\n",
       "      <th>1467812025</th>\n",
       "      <td>0</td>\n",
       "      <td>Mon Apr 06 22:20:09 PDT 2009</td>\n",
       "      <td>NO_QUERY</td>\n",
       "      <td>mimismo</td>\n",
       "      <td>@twittera que me muera ?</td>\n",
       "    </tr>\n",
       "  </tbody>\n",
       "</table>\n",
       "</div>"
      ],
      "text/plain": [
       "            polarity                          date     query             user  \\\n",
       "id                                                                              \n",
       "1467810369  0         Mon Apr 06 22:19:45 PDT 2009  NO_QUERY  _TheSpecialOne_   \n",
       "1467810672  0         Mon Apr 06 22:19:49 PDT 2009  NO_QUERY  scotthamilton     \n",
       "1467810917  0         Mon Apr 06 22:19:53 PDT 2009  NO_QUERY  mattycus          \n",
       "1467811184  0         Mon Apr 06 22:19:57 PDT 2009  NO_QUERY  ElleCTF           \n",
       "1467811193  0         Mon Apr 06 22:19:57 PDT 2009  NO_QUERY  Karoli            \n",
       "1467811372  0         Mon Apr 06 22:20:00 PDT 2009  NO_QUERY  joy_wolf          \n",
       "1467811592  0         Mon Apr 06 22:20:03 PDT 2009  NO_QUERY  mybirch           \n",
       "1467811594  0         Mon Apr 06 22:20:03 PDT 2009  NO_QUERY  coZZ              \n",
       "1467811795  0         Mon Apr 06 22:20:05 PDT 2009  NO_QUERY  2Hood4Hollywood   \n",
       "1467812025  0         Mon Apr 06 22:20:09 PDT 2009  NO_QUERY  mimismo           \n",
       "\n",
       "                                                                                                                           text  \n",
       "id                                                                                                                               \n",
       "1467810369  @switchfoot http://twitpic.com/2y1zl - Awww, that's a bummer.  You shoulda got David Carr of Third Day to do it. ;D  \n",
       "1467810672  is upset that he can't update his Facebook by texting it... and might cry as a result  School today also. Blah!      \n",
       "1467810917  @Kenichan I dived many times for the ball. Managed to save 50%  The rest go out of bounds                            \n",
       "1467811184  my whole body feels itchy and like its on fire                                                                       \n",
       "1467811193  @nationwideclass no, it's not behaving at all. i'm mad. why am i here? because I can't see you all over there.       \n",
       "1467811372  @Kwesidei not the whole crew                                                                                         \n",
       "1467811592  Need a hug                                                                                                           \n",
       "1467811594  @LOLTrish hey  long time no see! Yes.. Rains a bit ,only a bit  LOL , I'm fine thanks , how's you ?                  \n",
       "1467811795  @Tatiana_K nope they didn't have it                                                                                  \n",
       "1467812025  @twittera que me muera ?                                                                                             "
      ]
     },
     "metadata": {},
     "output_type": "display_data"
    },
    {
     "name": "stdout",
     "output_type": "stream",
     "text": [
      "Size:  1600000\n"
     ]
    }
   ],
   "source": [
    "display(original_training_df.head(10))\n",
    "print(\"Size: \", len(original_training_df))"
   ]
  },
  {
   "cell_type": "markdown",
   "metadata": {},
   "source": [
    "an example of the data structure we have on our test set"
   ]
  },
  {
   "cell_type": "code",
   "execution_count": 4,
   "metadata": {},
   "outputs": [
    {
     "data": {
      "text/html": [
       "<div>\n",
       "<style scoped>\n",
       "    .dataframe tbody tr th:only-of-type {\n",
       "        vertical-align: middle;\n",
       "    }\n",
       "\n",
       "    .dataframe tbody tr th {\n",
       "        vertical-align: top;\n",
       "    }\n",
       "\n",
       "    .dataframe thead th {\n",
       "        text-align: right;\n",
       "    }\n",
       "</style>\n",
       "<table border=\"1\" class=\"dataframe\">\n",
       "  <thead>\n",
       "    <tr style=\"text-align: right;\">\n",
       "      <th></th>\n",
       "      <th>polarity</th>\n",
       "      <th>date</th>\n",
       "      <th>query</th>\n",
       "      <th>user</th>\n",
       "      <th>text</th>\n",
       "    </tr>\n",
       "    <tr>\n",
       "      <th>id</th>\n",
       "      <th></th>\n",
       "      <th></th>\n",
       "      <th></th>\n",
       "      <th></th>\n",
       "      <th></th>\n",
       "    </tr>\n",
       "  </thead>\n",
       "  <tbody>\n",
       "    <tr>\n",
       "      <th>9</th>\n",
       "      <td>0</td>\n",
       "      <td>Mon May 11 03:22:30 UTC 2009</td>\n",
       "      <td>aig</td>\n",
       "      <td>Seth937</td>\n",
       "      <td>Fuck this economy. I hate aig and their non loan given asses.</td>\n",
       "    </tr>\n",
       "    <tr>\n",
       "      <th>14</th>\n",
       "      <td>0</td>\n",
       "      <td>Mon May 11 03:32:48 UTC 2009</td>\n",
       "      <td>obama</td>\n",
       "      <td>kylesellers</td>\n",
       "      <td>@Karoli I firmly believe that Obama/Pelosi have ZERO desire to be civil.  It's a charade and a slogan, but they want to destroy conservatism</td>\n",
       "    </tr>\n",
       "    <tr>\n",
       "      <th>17</th>\n",
       "      <td>0</td>\n",
       "      <td>Mon May 11 05:06:22 UTC 2009</td>\n",
       "      <td>nike</td>\n",
       "      <td>vincentx24x</td>\n",
       "      <td>dear nike, stop with the flywire. that shit is a waste of science. and ugly. love, @vincentx24x</td>\n",
       "    </tr>\n",
       "    <tr>\n",
       "      <th>19</th>\n",
       "      <td>0</td>\n",
       "      <td>Mon May 11 05:20:28 UTC 2009</td>\n",
       "      <td>lebron</td>\n",
       "      <td>luv8242</td>\n",
       "      <td>I was talking to this guy last night and he was telling me that he is a die hard Spurs fan.  He also told me that he hates LeBron James.</td>\n",
       "    </tr>\n",
       "    <tr>\n",
       "      <th>21</th>\n",
       "      <td>0</td>\n",
       "      <td>Mon May 11 05:21:37 UTC 2009</td>\n",
       "      <td>lebron</td>\n",
       "      <td>ursecretdezire</td>\n",
       "      <td>@ludajuice Lebron is a Beast, but I'm still cheering 4 the A..til the end.</td>\n",
       "    </tr>\n",
       "    <tr>\n",
       "      <th>119</th>\n",
       "      <td>0</td>\n",
       "      <td>Sat May 16 16:19:24 UTC 2009</td>\n",
       "      <td>google</td>\n",
       "      <td>vamsmack</td>\n",
       "      <td>Played with an android google phone. The slide out screen scares me I would break that fucker so fast. Still prefer my iPhone.</td>\n",
       "    </tr>\n",
       "    <tr>\n",
       "      <th>120</th>\n",
       "      <td>0</td>\n",
       "      <td>Sat May 16 16:25:41 UTC 2009</td>\n",
       "      <td>aig</td>\n",
       "      <td>schroncd</td>\n",
       "      <td>US planning to resume the military tribunals at Guantanamo Bay... only this time those on trial will be AIG execs and Chrysler debt holders</td>\n",
       "    </tr>\n",
       "    <tr>\n",
       "      <th>121</th>\n",
       "      <td>0</td>\n",
       "      <td>Sat May 16 22:42:07 UTC 2009</td>\n",
       "      <td>itchy</td>\n",
       "      <td>MarissaLeeD</td>\n",
       "      <td>omg so bored &amp;amp; my tattoooos are so itchy!!  help! aha =)</td>\n",
       "    </tr>\n",
       "    <tr>\n",
       "      <th>122</th>\n",
       "      <td>0</td>\n",
       "      <td>Sat May 16 22:42:25 UTC 2009</td>\n",
       "      <td>itchy</td>\n",
       "      <td>robloposky</td>\n",
       "      <td>I'm itchy and miserable!</td>\n",
       "    </tr>\n",
       "    <tr>\n",
       "      <th>123</th>\n",
       "      <td>0</td>\n",
       "      <td>Sat May 16 22:42:44 UTC 2009</td>\n",
       "      <td>itchy</td>\n",
       "      <td>EdwinLValencia</td>\n",
       "      <td>@sekseemess no. I'm not itchy for now. Maybe later, lol.</td>\n",
       "    </tr>\n",
       "  </tbody>\n",
       "</table>\n",
       "</div>"
      ],
      "text/plain": [
       "     polarity                          date   query            user  \\\n",
       "id                                                                    \n",
       "9    0         Mon May 11 03:22:30 UTC 2009  aig     Seth937          \n",
       "14   0         Mon May 11 03:32:48 UTC 2009  obama   kylesellers      \n",
       "17   0         Mon May 11 05:06:22 UTC 2009  nike    vincentx24x      \n",
       "19   0         Mon May 11 05:20:28 UTC 2009  lebron  luv8242          \n",
       "21   0         Mon May 11 05:21:37 UTC 2009  lebron  ursecretdezire   \n",
       "119  0         Sat May 16 16:19:24 UTC 2009  google  vamsmack         \n",
       "120  0         Sat May 16 16:25:41 UTC 2009  aig     schroncd         \n",
       "121  0         Sat May 16 22:42:07 UTC 2009  itchy   MarissaLeeD      \n",
       "122  0         Sat May 16 22:42:25 UTC 2009  itchy   robloposky       \n",
       "123  0         Sat May 16 22:42:44 UTC 2009  itchy   EdwinLValencia   \n",
       "\n",
       "                                                                                                                                             text  \n",
       "id                                                                                                                                                 \n",
       "9    Fuck this economy. I hate aig and their non loan given asses.                                                                                 \n",
       "14   @Karoli I firmly believe that Obama/Pelosi have ZERO desire to be civil.  It's a charade and a slogan, but they want to destroy conservatism  \n",
       "17   dear nike, stop with the flywire. that shit is a waste of science. and ugly. love, @vincentx24x                                               \n",
       "19   I was talking to this guy last night and he was telling me that he is a die hard Spurs fan.  He also told me that he hates LeBron James.      \n",
       "21   @ludajuice Lebron is a Beast, but I'm still cheering 4 the A..til the end.                                                                    \n",
       "119  Played with an android google phone. The slide out screen scares me I would break that fucker so fast. Still prefer my iPhone.                \n",
       "120  US planning to resume the military tribunals at Guantanamo Bay... only this time those on trial will be AIG execs and Chrysler debt holders   \n",
       "121  omg so bored &amp; my tattoooos are so itchy!!  help! aha =)                                                                                  \n",
       "122  I'm itchy and miserable!                                                                                                                      \n",
       "123  @sekseemess no. I'm not itchy for now. Maybe later, lol.                                                                                      "
      ]
     },
     "metadata": {},
     "output_type": "display_data"
    },
    {
     "name": "stdout",
     "output_type": "stream",
     "text": [
      "Size:  359\n"
     ]
    }
   ],
   "source": [
    "display(original_test_df.head(10))\n",
    "print(\"Size: \", len(original_test_df))"
   ]
  },
  {
   "cell_type": "markdown",
   "metadata": {},
   "source": [
    "how are the categories of tweets distrubuted between positive and negative"
   ]
  },
  {
   "cell_type": "code",
   "execution_count": 5,
   "metadata": {},
   "outputs": [
    {
     "data": {
      "text/plain": [
       "Text(0.5,1,'Dataset labels distribuition')"
      ]
     },
     "execution_count": 5,
     "metadata": {},
     "output_type": "execute_result"
    },
    {
     "data": {
      "image/png": "[encoded data removed]",
      "text/plain": [
       "<Figure size 1152x576 with 1 Axes>"
      ]
     },
     "metadata": {
      "needs_background": "light"
     },
     "output_type": "display_data"
    }
   ],
   "source": [
    "from collections import Counter\n",
    "import matplotlib.pyplot as plt\n",
    "\n",
    "%matplotlib inline\n",
    "\n",
    "target_cnt = Counter(original_training_df['polarity'])\n",
    "\n",
    "plt.figure(figsize=(16,8))\n",
    "plt.bar(target_cnt.keys(), target_cnt.values())\n",
    "plt.xticks([0, 4], ['Negative', 'Positive'])\n",
    "plt.title(\"Dataset labels distribuition\")"
   ]
  },
  {
   "cell_type": "markdown",
   "metadata": {},
   "source": [
    "## Sampling\n",
    "\n",
    "In order to ensure that our train / dev/ test /holdout sets follow the same probability distribution, since the dataset contains many samples and because half of them is Negative(0) and the other half is Positive(4) we cannot just take N random number of rows from the whole dataset and we need to distribute it beside the positive and negative samples which will be done as below."
   ]
  },
  {
   "cell_type": "markdown",
   "metadata": {},
   "source": [
    "The dataset contains thes same size of rows for Negative and Positive tweets, here we will keep a balanced set of 50000 positive and 50000 negative tweets taken randomly"
   ]
  },
  {
   "cell_type": "code",
   "execution_count": 6,
   "metadata": {},
   "outputs": [
    {
     "data": {
      "text/plain": [
       "array([0, 4])"
      ]
     },
     "metadata": {},
     "output_type": "display_data"
    }
   ],
   "source": [
    "num_rows_from_each_class = 100000\n",
    "some_negative = original_training_df[original_training_df['polarity'] == 0].sample(num_rows_from_each_class)\n",
    "some_positive = original_training_df[original_training_df['polarity'] == 4].sample(num_rows_from_each_class)\n",
    "\n",
    "display(original_training_df.polarity.unique())\n",
    "training_df = pd.concat([some_negative, some_positive])"
   ]
  },
  {
   "cell_type": "markdown",
   "metadata": {},
   "source": [
    "## Preprocessing"
   ]
  },
  {
   "cell_type": "code",
   "execution_count": 7,
   "metadata": {},
   "outputs": [],
   "source": [
    "import re\n",
    "\n",
    "class Preprocess:\n",
    "    @staticmethod\n",
    "    def remove_tags(sentence):\n",
    "        return re.sub(r'@[A-Za-z0-9]+', ' ', sentence)\n",
    "\n",
    "    @staticmethod\n",
    "    def remove_urls(sentence):\n",
    "        return re.sub('https?://[A-Za-z0-9./]+', ' ', sentence)\n",
    "\n",
    "    @staticmethod\n",
    "    def remove_underscores(sentence):\n",
    "        return re.sub(r'_[A-Za-z0-9]+', ' ', sentence)\n",
    "    \n",
    "    @staticmethod\n",
    "    def remove_special_characters(sentence):\n",
    "        return re.sub(r'\\W', ' ', sentence)\n",
    "\n",
    "    @staticmethod\n",
    "    def remove_rem_tags(sentence):\n",
    "        return re.sub(r'^@\\s+', ' ', sentence)\n",
    "\n",
    "    @staticmethod\n",
    "    def remove_rem_underscores(sentence):\n",
    "        return re.sub(r'^ _\\s+', ' ', sentence)\n",
    "    \n",
    "    @staticmethod\n",
    "    def remove_multiple_spaces(sentence):\n",
    "        return re.sub(r' +', ' ', sentence)\n",
    "\n",
    "    @staticmethod\n",
    "    def remove_trailing_spaces(sentence):\n",
    "        return sentence.strip()\n",
    "    \n",
    "def preprocess_row(row):\n",
    "    row = Preprocess.remove_tags(row)\n",
    "    row = Preprocess.remove_urls(row)\n",
    "    row = Preprocess.remove_underscores(row)\n",
    "    row = Preprocess.remove_special_characters(row)\n",
    "    row = Preprocess.remove_rem_tags(row)\n",
    "    row = Preprocess.remove_rem_underscores(row)\n",
    "    row = Preprocess.remove_multiple_spaces(row)\n",
    "    row = Preprocess.remove_trailing_spaces(row)\n",
    "    row = row.lower()\n",
    "    return row"
   ]
  },
  {
   "cell_type": "code",
   "execution_count": 8,
   "metadata": {},
   "outputs": [],
   "source": [
    "df = training_df.copy()\n",
    "df['text_before_preprocess'] = df['text']\n",
    "df.drop(columns=['date', 'query'], axis=1, inplace=True)\n",
    "df['length_before_preprocess'] = df['text_before_preprocess'].str.len()\n",
    "df.reset_index(drop=True, inplace=True)"
   ]
  },
  {
   "cell_type": "code",
   "execution_count": 9,
   "metadata": {},
   "outputs": [],
   "source": [
    "df['text']= df['text'].apply(lambda row: preprocess_row(row))\n",
    "df['length'] = df['text'].str.len()"
   ]
  },
  {
   "cell_type": "markdown",
   "metadata": {},
   "source": [
    "## Keep only relevant data\n",
    "We keep only the list of texts to create the embeddings\n",
    "and the list of the polarity per tweet as target"
   ]
  },
  {
   "cell_type": "code",
   "execution_count": 10,
   "metadata": {},
   "outputs": [],
   "source": [
    "corpus = df['text'].values.tolist()\n",
    "target = df['polarity'].values.tolist()"
   ]
  },
  {
   "cell_type": "code",
   "execution_count": 11,
   "metadata": {},
   "outputs": [],
   "source": [
    "# Drop duplicate tweets\n",
    "df = df.drop_duplicates(subset=['user','text'], keep = 'first')"
   ]
  },
  {
   "cell_type": "code",
   "execution_count": 12,
   "metadata": {},
   "outputs": [],
   "source": [
    "df.drop(columns=['user'], axis=1, inplace=True)\n",
    "df.reset_index(drop=True, inplace=True)"
   ]
  },
  {
   "cell_type": "markdown",
   "metadata": {},
   "source": [
    "## Train / Heldout / Dev sets\n",
    "\n",
    "- Τraining set: will be used for the training of our MLP\n",
    "- Heldout set: will be used for hyperparameter tuning\n",
    "- Development (validation) set: will be used to monitor the performance of our MLP during training and optimization process\n",
    "\n",
    "We have employed the established 50/25/25 rule."
   ]
  },
  {
   "cell_type": "code",
   "execution_count": 13,
   "metadata": {},
   "outputs": [],
   "source": [
    "import sklearn.model_selection\n",
    "\n",
    "X_train, X_heldout_dev, y_train, y_heldout_dev = sklearn.model_selection.train_test_split(\n",
    "    corpus, \n",
    "    target, \n",
    "    test_size = 0.25, \n",
    "    shuffle = True\n",
    ")\n",
    "\n",
    "X_heldout, X_dev, y_heldout, y_dev = sklearn.model_selection.train_test_split(\n",
    "    X_heldout_dev, \n",
    "    y_heldout_dev, \n",
    "    test_size = 0.5, \n",
    "    shuffle = True\n",
    ")"
   ]
  },
  {
   "cell_type": "code",
   "execution_count": 14,
   "metadata": {},
   "outputs": [
    {
     "name": "stdout",
     "output_type": "stream",
     "text": [
      "Size of X_train:  150000\n",
      "Size of X_heldout:  25000\n",
      "Size of X_dev:  25000\n",
      "Size of y_train:  150000\n",
      "Size of y_heldout:  25000\n",
      "Size of y_dev:  25000\n"
     ]
    }
   ],
   "source": [
    "print('Size of X_train: ', len(X_train))\n",
    "print('Size of X_heldout: ', len(X_heldout))\n",
    "print('Size of X_dev: ', len(X_dev))\n",
    "print('Size of y_train: ', len(y_train))\n",
    "print('Size of y_heldout: ', len(y_heldout))\n",
    "print('Size of y_dev: ', len(y_dev))"
   ]
  },
  {
   "cell_type": "code",
   "execution_count": 15,
   "metadata": {},
   "outputs": [],
   "source": [
    "df_test = original_test_df.copy()\n",
    "df_test.drop(columns=['date', 'query', 'user'], axis=1, inplace=True)\n",
    "df_test.reset_index(drop=True, inplace=True)\n",
    "df_test['text']= df_test['text'].apply(lambda row: preprocess_row(row))\n",
    "X_test = df_test['text'].values.tolist()\n",
    "y_test = df_test['polarity'].values.tolist()"
   ]
  },
  {
   "cell_type": "code",
   "execution_count": 16,
   "metadata": {},
   "outputs": [],
   "source": [
    "import itertools\n",
    "from sklearn import preprocessing\n",
    "\n",
    "le = preprocessing.LabelEncoder()\n",
    "le.fit(y_train)\n",
    "y_train = le.transform(y_train)\n",
    "\n",
    "le = preprocessing.LabelEncoder()\n",
    "le.fit(y_dev)\n",
    "y_dev = le.transform(y_dev)\n",
    "\n",
    "le = preprocessing.LabelEncoder()\n",
    "le.fit(y_heldout)\n",
    "y_heldout = le.transform(y_heldout)\n",
    "\n",
    "le = preprocessing.LabelEncoder()\n",
    "le.fit(y_test)\n",
    "y_test = le.transform(y_test)"
   ]
  },
  {
   "cell_type": "code",
   "execution_count": 17,
   "metadata": {},
   "outputs": [],
   "source": [
    "def get_mismatched_tweets(x, y_true, y_pred):\n",
    "    if( not (len(x) == len(y_true) == len(y_pred))):\n",
    "        raise 'Invalid Sizes'\n",
    "    return pd.DataFrame.from_dict([{'text': x[i], 'actual': y_true[i], 'predicted': y_pred[i]} for i in range(len(y_true)) if y_true[i]!=y_pred[i]])"
   ]
  },
  {
   "cell_type": "markdown",
   "metadata": {},
   "source": [
    "## Creating word embeddings"
   ]
  },
  {
   "cell_type": "markdown",
   "metadata": {},
   "source": [
    "### TF/IDF vectorizer"
   ]
  },
  {
   "cell_type": "code",
   "execution_count": 18,
   "metadata": {},
   "outputs": [],
   "source": [
    "from sklearn.feature_extraction.text import TfidfVectorizer\n",
    "from nltk.corpus import stopwords"
   ]
  },
  {
   "cell_type": "code",
   "execution_count": 19,
   "metadata": {},
   "outputs": [],
   "source": [
    "tf_idf_vectorizer = TfidfVectorizer(\n",
    "        ngram_range=(1, 3),\n",
    "        max_features=15000,\n",
    "        sublinear_tf=True,\n",
    "        lowercase = True,\n",
    "        stop_words=stopwords.words('english')\n",
    "    )\n",
    "\n",
    "vectorized_x_train = tf_idf_vectorizer.fit_transform(X_train).toarray()\n",
    "vectorized_x_heldout = tf_idf_vectorizer.transform(X_heldout).toarray()\n",
    "vectorized_x_dev = tf_idf_vectorizer.transform(X_dev).toarray()\n",
    "vectorized_x_test = tf_idf_vectorizer.transform(X_test).toarray()"
   ]
  },
  {
   "cell_type": "markdown",
   "metadata": {},
   "source": [
    "### Plots"
   ]
  },
  {
   "cell_type": "markdown",
   "metadata": {},
   "source": [
    "### Statistics and Plots"
   ]
  },
  {
   "cell_type": "code",
   "execution_count": 20,
   "metadata": {},
   "outputs": [],
   "source": [
    "def plot_history(history):\n",
    "    fig = plt.figure(figsize=(20,5))\n",
    "    ax1 = fig.add_subplot(1, 3, 1)\n",
    "    # summarize history for accuracy\n",
    "    ax1.plot(history.history['accuracy'])\n",
    "    ax1.plot(history.history['val_accuracy'])\n",
    "    ax1.set_title('model accuracy')\n",
    "    ax1.set_ylabel('accuracy')\n",
    "    ax1.set_xlabel('epoch')\n",
    "    ax1.legend(['train', 'test'], loc='upper left')\n",
    "\n",
    "    ax2 = fig.add_subplot(1, 3, 2)\n",
    "    # summarize history for loss\n",
    "    ax2.plot(history.history['loss'])\n",
    "    ax2.plot(history.history['val_loss'])\n",
    "    ax2.set_title('model loss')\n",
    "    ax2.set_ylabel('loss')\n",
    "    ax2.set_xlabel('epoch')\n",
    "    ax2.legend(['train', 'test'], loc='upper left')\n",
    "\n",
    "    ax3 = fig.add_subplot(1, 3, 3)\n",
    "    # summarize history for loss\n",
    "    ax3.plot(history.history['f1'])\n",
    "    ax3.plot(history.history['val_f1'])\n",
    "    ax3.set_title('model f1')\n",
    "    ax3.set_ylabel('f1')\n",
    "    ax3.set_xlabel('epoch')\n",
    "    ax3.legend(['train', 'test'], loc='upper left')\n",
    "\n",
    "def print_evaluation(model, x_test, y_test):\n",
    "    score = model.evaluate(x_test, y_test, verbose = 1, batch_size = 100)\n",
    "\n",
    "    print('\\nTest Binary_cross_entropy: %.4f' %  (score[0]))\n",
    "    print('\\nTest precision: %.4f' %  (score[1]))\n",
    "    print('\\nTest recall: %.4f' %  (score[2]))\n",
    "    print('\\nTest f1: %.4f' % (score[3]))\n",
    "    print('\\nTest accuracy: %.4f'% (score[4]))\n",
    "    \n",
    "def recall(y_true, y_pred):\n",
    "    \n",
    "    \"\"\"\n",
    "    Recall metric.\n",
    "    Only computes a batch-wise average of recall.\n",
    "    Computes the recall, a metric for multi-label classification of\n",
    "    how many relevant items are selected.\n",
    "    \"\"\"\n",
    "    true_positives = K.sum(K.round(K.clip(y_true * y_pred, 0, 1)))\n",
    "    possible_positives = K.sum(K.round(K.clip(y_true, 0, 1)))\n",
    "    recall = true_positives / (possible_positives + K.epsilon())\n",
    "    return recall\n",
    "\n",
    "\n",
    "def precision(y_true, y_pred):\n",
    "    \n",
    "    \"\"\"\n",
    "    Precision metric.\n",
    "    Only computes a batch-wise average of precision.\n",
    "    Computes the precision, a metric for multi-label classification of\n",
    "    how many selected items are relevant.\n",
    "    Source\n",
    "    ------\n",
    "    https://github.com/fchollet/keras/issues/5400#issuecomment-314747992\n",
    "    \"\"\"\n",
    "    true_positives = K.sum(K.round(K.clip(y_true * y_pred, 0, 1)))\n",
    "    predicted_positives = K.sum(K.round(K.clip(y_pred, 0, 1)))\n",
    "    precision = true_positives / (predicted_positives + K.epsilon())\n",
    "    return precision\n",
    "\n",
    "\n",
    "def f1(y_true, y_pred):\n",
    "    \n",
    "    \"\"\"Calculate the F1 score.\"\"\"\n",
    "    p = precision(y_true, y_pred)\n",
    "    r = recall(y_true, y_pred)\n",
    "    return 2 * ((p * r) / (p + r))\n",
    "\n",
    "\n",
    "def accuracy(y_true, y_pred):\n",
    "    return K.mean(K.equal(y_true, K.round(y_pred)), axis=1)\n"
   ]
  },
  {
   "cell_type": "markdown",
   "metadata": {},
   "source": [
    "Here we are defining our callbacks to pass to Keras\n",
    "\n",
    "- checkpoint\n",
    "    We will use this callback to save the best trained mlp \n",
    "- early stopping\n",
    "    we will use this callback to stop at the right time before overffiting\n",
    "    we chose to use min val_loss for early stopping monitoring because ti is to the metric for our type of model. and we would like be certain about the desision.\n"
   ]
  },
  {
   "cell_type": "code",
   "execution_count": 21,
   "metadata": {},
   "outputs": [
    {
     "name": "stderr",
     "output_type": "stream",
     "text": [
      "Using TensorFlow backend.\n"
     ]
    }
   ],
   "source": [
    "from keras_tqdm import TQDMNotebookCallback\n",
    "from keras.callbacks import ModelCheckpoint, EarlyStopping\n",
    "\n",
    "def checkpoint(name):\n",
    "    return ModelCheckpoint(\n",
    "        name, \n",
    "        monitor='val_f1', \n",
    "        verbose=1, \n",
    "        save_best_only=True, \n",
    "        mode='max'\n",
    "    )\n",
    "\n",
    "es = EarlyStopping(\n",
    "    monitor='val_loss', \n",
    "    mode='min',\n",
    "    patience=5,\n",
    "    verbose=1\n",
    ")"
   ]
  },
  {
   "cell_type": "markdown",
   "metadata": {},
   "source": [
    "## Models"
   ]
  }
 ],
 "metadata": {
  "kernelspec": {
   "display_name": "Python 3",
   "language": "python",
   "name": "python3"
  },
  "language_info": {
   "codemirror_mode": {
    "name": "ipython",
    "version": 3
   },
   "file_extension": ".py",
   "mimetype": "text/x-python",
   "name": "python",
   "nbconvert_exporter": "python",
   "pygments_lexer": "ipython3",
   "version": "3.7.3"
  },
  "toc": {
   "base_numbering": 1,
   "nav_menu": {},
   "number_sections": false,
   "sideBar": true,
   "skip_h1_title": true,
   "title_cell": "Table of Contents",
   "title_sidebar": "Contents",
   "toc_cell": true,
   "toc_position": {},
   "toc_section_display": true,
   "toc_window_display": true
  }
 },
 "nbformat": 4,
 "nbformat_minor": 2
}
